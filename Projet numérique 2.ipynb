{
 "cells": [
  {
   "cell_type": "markdown",
   "metadata": {},
   "source": [
    "# Projet numérique"
   ]
  },
  {
   "cell_type": "markdown",
   "metadata": {},
   "source": [
    "Equations de Lokta-Volterra:\n",
    "\n",
    "$\\dot{x_1} = x_1 (\\alpha - \\beta x_2)$\n",
    "\n",
    "$\\dot{x_2} = - x_2 (\\gamma - \\delta x_1)$\n",
    "\n",
    "où $x_1$ et $x_2$ désignent le nombre (positif de proies et de prédateurs respectivements et $\\alpha$, $\\beta$, $\\gamma$, $\\delta$ sont des paramètres strictement positifs."
   ]
  },
  {
   "cell_type": "code",
   "execution_count": 3,
   "metadata": {},
   "outputs": [],
   "source": [
    "import autograd\n",
    "import autograd.numpy as np\n",
    "import matplotlib.pyplot as plt"
   ]
  },
  {
   "cell_type": "markdown",
   "metadata": {},
   "source": [
    "## Question 1"
   ]
  },
  {
   "cell_type": "markdown",
   "metadata": {},
   "source": [
    "Interprétation physique de chacun des termes :\n",
    "\n",
    "* $\\alpha$ est le taux de reproduction des proies, indépendamment des prédateurs\n",
    "* $\\beta$ est le taux de mortalité des proies à cause des prédateurs\n",
    "* $\\gamma$ est le taux de reproduction des prédateurs, dépendant du nombre de proies rencontrées et mangées\n",
    "* $\\delta$ est le taux de mortalité des prédateurs, indépendamment des proies"
   ]
  },
  {
   "cell_type": "markdown",
   "metadata": {},
   "source": [
    "Points d'équilibre :\n",
    "Soit $(x_1,x_2) \\in \\mathbb{R^2}$,\n",
    "\n",
    "$\n",
    "(x_1,x_2) \\: point \\: d'équilibre\n",
    "\\Leftrightarrow\n",
    "\\begin{equation}\n",
    "  \\left\\{\n",
    "    \\begin{aligned}\n",
    "        & x_1 (\\alpha - \\beta x_2) = 0 \\\\\n",
    "        & - x_2 (\\gamma - \\delta x_1) = 0\\\\\n",
    "      \\end{aligned}\n",
    "    \\right.\n",
    "\\end{equation}\n",
    "$\n",
    "$\\Leftrightarrow\n",
    "\\begin{equation}\n",
    "  \\left\\{\n",
    "    \\begin{aligned}\n",
    "        & x_1 = 0 \\\\\n",
    "        & x_2 = 0\\\\\n",
    "      \\end{aligned}\n",
    "    \\right.\n",
    "\\end{equation}\n",
    "$\n",
    "ou\n",
    "$\\begin{equation}\n",
    "  \\left\\{\n",
    "    \\begin{aligned}\n",
    "        & x_1 = \\frac{\\gamma}{\\delta} \\\\\n",
    "        & x_2 = \\frac{\\alpha}{\\beta}\\\\\n",
    "      \\end{aligned}\n",
    "    \\right.\n",
    "\\end{equation}\n",
    "$\n",
    "car les paramètres $\\delta$ et $\\beta$ sont non nuls."
   ]
  },
  {
   "cell_type": "markdown",
   "metadata": {},
   "source": [
    "Donc il existe 2 points d'équilibres :\n",
    "* (0,0)\n",
    "* $\\bar{x} = (\\frac{\\gamma}{\\delta} , \\frac{\\alpha}{\\beta}) \\in \\mathbb{R_{>0}} \\times \\mathbb{R_{>0}}$ car les paramètres $\\alpha$, $\\beta$, $\\gamma$, $\\delta$ sont strictements positifs."
   ]
  },
  {
   "cell_type": "markdown",
   "metadata": {},
   "source": [
    "Le premier point d'équilibre semble stable cra s'il n'y a ni proie ni prédateurs, l'état de l'environnement ne va pas changer.\n",
    "\n",
    "Pour l'autre point d'équilibre, on ne peut pas dire."
   ]
  },
  {
   "cell_type": "markdown",
   "metadata": {},
   "source": [
    "## Question 2"
   ]
  },
  {
   "cell_type": "code",
   "execution_count": null,
   "metadata": {},
   "outputs": [],
   "source": []
  },
  {
   "cell_type": "markdown",
   "metadata": {},
   "source": [
    "## Question 3"
   ]
  },
  {
   "cell_type": "markdown",
   "metadata": {},
   "source": [
    "## Question 4"
   ]
  },
  {
   "cell_type": "markdown",
   "metadata": {},
   "source": [
    "On considère la fonction $H (x_1,x_2) = \\delta x_1 - \\gamma ln(x_1) + \\beta x_2 - \\alpha ln(x_2)$ définie sur $\\mathbb{R_{>0}} \\times \\mathbb{R_{>0}}$. Elle est dérivable sur l'ensemble $\\mathbb{R_{>0}} \\times \\mathbb{R_{>0}}$ et \n",
    "\n",
    "$\\forall (x_1,x_2 \\in \\mathbb{R_{>0}} \\times \\mathbb{R_{>0}}, \n",
    "\\begin{align}\n",
    "    \\nabla H (x_1,x_2) = & \\begin{pmatrix} \\delta - \\frac{\\gamma}{x_1} \\\\ \\beta - \\frac{\\alpha}{x_2} \\end{pmatrix}\n",
    "\\end{align}$"
   ]
  },
  {
   "cell_type": "markdown",
   "metadata": {},
   "source": [
    "## Question 5"
   ]
  },
  {
   "cell_type": "code",
   "execution_count": 2,
   "metadata": {},
   "outputs": [],
   "source": [
    "def display_contour(f, x, y, levels):\n",
    "    X, Y = np.meshgrid(x, y)\n",
    "    Z = f(X, Y)\n",
    "    fig, ax = plt.subplots()\n",
    "    contour_set = plt.contour(\n",
    "        X, Y, Z, colors=\"grey\", linestyles=\"dashed\", \n",
    "        levels=levels \n",
    "    )\n",
    "    ax.clabel(contour_set)\n",
    "    plt.grid(True)\n",
    "    plt.xlabel(\"$x_1$\") \n",
    "    plt.ylabel(\"$x_2$\")\n",
    "    plt.gca().set_aspect(\"equal\")"
   ]
  },
  {
   "cell_type": "code",
   "execution_count": 7,
   "metadata": {},
   "outputs": [],
   "source": [
    "def H(x,y, alpha=1, beta=1, gamma=1, delta=1):\n",
    "    return delta * x - gamma * np.log(x) + beta * y - alpha * np.log(y)"
   ]
  },
  {
   "cell_type": "code",
   "execution_count": 15,
   "metadata": {},
   "outputs": [
    {
     "data": {
      "image/png": "[encoded data removed]",
      "text/plain": [
       "<Figure size 432x288 with 1 Axes>"
      ]
     },
     "metadata": {
      "needs_background": "light"
     },
     "output_type": "display_data"
    }
   ],
   "source": [
    "display_contour(\n",
    "    H, \n",
    "    x=np.linspace(-1, 10.0, 100), \n",
    "    y=np.linspace(-1, 10.0, 100), \n",
    "    levels=10 # 10 levels, automatically selected\n",
    ")"
   ]
  },
  {
   "cell_type": "code",
   "execution_count": null,
   "metadata": {},
   "outputs": [],
   "source": []
  }
 ],
 "metadata": {
  "kernelspec": {
   "display_name": "Python 3",
   "language": "python",
   "name": "python3"
  },
  "language_info": {
   "codemirror_mode": {
    "name": "ipython",
    "version": 3
   },
   "file_extension": ".py",
   "mimetype": "text/x-python",
   "name": "python",
   "nbconvert_exporter": "python",
   "pygments_lexer": "ipython3",
   "version": "3.8.3"
  }
 },
 "nbformat": 4,
 "nbformat_minor": 4
}
